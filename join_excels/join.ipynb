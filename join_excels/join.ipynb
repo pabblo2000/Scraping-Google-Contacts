{
 "cells": [
  {
   "cell_type": "markdown",
   "metadata": {},
   "source": [
    "# Juntamos los excel"
   ]
  },
  {
   "cell_type": "code",
   "execution_count": null,
   "metadata": {},
   "outputs": [],
   "source": [
    "import pandas as pd\n",
    "import os\n",
    "\n",
    "def combine_xlsx_files(folder_path):\n",
    "    \"\"\"\n",
    "    Combine all xlsx files in a folder into a single DataFrame.\n",
    "    \n",
    "    Args:\n",
    "        folder_path (str): Path to the folder containing xlsx files\n",
    "        \n",
    "    Returns:\n",
    "        pd.DataFrame: Combined DataFrame with all data from xlsx files\n",
    "    \"\"\"\n",
    "    # Get all xlsx files in the folder\n",
    "    xlsx_files = [file for file in os.listdir(folder_path) if file.endswith('.xlsx')]\n",
    "    \n",
    "    if not xlsx_files:\n",
    "        print(\"No xlsx files found in the specified folder.\")\n",
    "        return None\n",
    "    \n",
    "    # Create an empty list to store DataFrames\n",
    "    dfs = []\n",
    "    \n",
    "    # Read each xlsx file and append to the list\n",
    "    for file in xlsx_files:\n",
    "        file_path = os.path.join(folder_path, file)\n",
    "        try:\n",
    "            df = pd.read_excel(file_path)\n",
    "            dfs.append(df)\n",
    "            print(f\"Successfully read: {file}\")\n",
    "        except Exception as e:\n",
    "            print(f\"Error reading {file}: {e}\")\n",
    "    \n",
    "    if not dfs:\n",
    "        print(\"No data could be read from the xlsx files.\")\n",
    "        return None\n",
    "    \n",
    "    # Concatenate all DataFrames\n",
    "    combined_df = pd.concat(dfs, ignore_index=True)\n",
    "    print(f\"Combined {len(dfs)} Excel files with {combined_df.shape[0]} total rows.\")\n",
    "    \n",
    "    return combined_df\n",
    "\n",
    "\n",
    "if __name__ == \"__main__\":\n",
    "    combined_df = combine_xlsx_files(\"files\")\n",
    "    \n",
    "    if combined_df is not None:\n",
    "        output_file = os.path.join(os.path.dirname(os.path.abspath(\"files\")), \"files_combined.xlsx\")\n",
    "        combined_df.to_excel(output_file, index=False)\n",
    "        print(f\"Combined data saved to {output_file}\")\n",
    "    else:\n",
    "        print(\"No data to save.\")"
   ]
  }
 ],
 "metadata": {
  "kernelspec": {
   "display_name": ".venv",
   "language": "python",
   "name": "python3"
  },
  "language_info": {
   "codemirror_mode": {
    "name": "ipython",
    "version": 3
   },
   "file_extension": ".py",
   "mimetype": "text/x-python",
   "name": "python",
   "nbconvert_exporter": "python",
   "pygments_lexer": "ipython3",
   "version": "3.11.9"
  }
 },
 "nbformat": 4,
 "nbformat_minor": 2
}
